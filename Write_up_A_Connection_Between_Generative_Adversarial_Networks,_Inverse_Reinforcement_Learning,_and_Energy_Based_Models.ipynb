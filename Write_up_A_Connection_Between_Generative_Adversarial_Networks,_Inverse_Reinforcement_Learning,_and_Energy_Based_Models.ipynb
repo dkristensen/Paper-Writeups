{
  "nbformat": 4,
  "nbformat_minor": 0,
  "metadata": {
    "colab": {
      "name": "Write up - A Connection Between Generative Adversarial Networks, Inverse Reinforcement Learning, and Energy-Based Models.ipynb",
      "provenance": []
    },
    "kernelspec": {
      "name": "python3",
      "display_name": "Python 3"
    }
  },
  "cells": [
    {
      "cell_type": "markdown",
      "metadata": {
        "id": "cqS-OCBuYMch",
        "colab_type": "text"
      },
      "source": [
        "# Writeup of Paper\n",
        "### Title: A Connection Between Generative Adversarial Networks, Inverse Reinforcement Learning, and Energy-Based Models\n",
        "\n",
        "#### Authors: Chelsea Fin∗ , Paul Christiano , Pieter Abbeel, Sergey Levine\n",
        "###### Organization: University of California, Berkeley\n",
        "\n",
        "---\n",
        "# Takeaways from abstract\n",
        "* Learning cost functions is a new idea in GANs, but not in RL (especially IL/IRL)\n",
        "* There is an equivalence in cost learning in certain IRL methods to that of GANs\n",
        "* Direct equivalence between a sample based approach for MaxEnt IRL and GANs with evaluable density functions which input into the descrimantor\n",
        "## Introduction\n",
        "* Gradient updates for the cost and policy in a MaxEntIRL model can be viewed as updates to the discriminator and generators for these specific subset of GANs\n",
        "\t* Examples of GANs which fall in this category are autoregressive models\n",
        "* The implication of this is that training using a GAN approach is preferable even when density values are tractable\n",
        "\t* Example given is a network with insufficient capacity to represent a multinomial distribution; a maximized likelihood would cover the modes, but place most of the mass in low density regions of the data distribution, whereas an adversarial approach would minimize this mislead apportionment of mass with the trade off of lower diversity\n",
        "* \"GAN training can significantly improve the quality of samples even when the generator density can be exactly evaluated\"\n",
        "* Since MaxEntIRL models are special cases of energy based models, certain GANs can be used to train EBMs\n",
        "\n",
        "## GANs and IRL\n",
        "### Which kinds of discriminators work for this equivalence\n",
        "* Typical discriminator output is  <br/> $D^*(\\tau) = \\frac{p(\\tau)}{p(\\tau)+q(\\tau)}$\n",
        "with $p(\\tau)$ the actual distribution of the data and $q(\\tau)$ the generator's density\n",
        "* If the generator density is known, it is possible to modify the output of the discriminator to output $p_\\theta(\\tau)$ instead, and fill in the known $q(\\tau)$, such that our discriminator takes the new form <br/> $D_\\theta (\\tau) = \\frac{\\tilde{p}_\\theta(\\tau)}{\\tilde{p}_\\theta(\\tau) + q(\\tau)}$.\n",
        "* Since in a Boltzmann distribution, the energy of a trajectory is given by $p_\\theta(\\tau) = \\frac{1}{Z}\\text{exp}(-c_\\theta(\\tau))$, we can represent this new discriminator output to be <br/> $D_\\theta (\\tau) = \\frac{\\frac{1}{Z}\\text{exp}(-c_\\theta(\\tau))}{\\frac{1}{Z}\\text{exp}(-c_\\theta(\\tau)) + q(\\tau)}$.\n",
        "* This resembles the form of a binary classification model with a sigmoid output, only with a subtraction of $\\log(q(\\tau))$, meaning the optimal discriminator is independent of the generator - something which leads to potentially increasing stability of training\n",
        " ---\n",
        "### Proving equivalence\n",
        "The discriminator's loss is given by <br/> $L_\\text{discriminator}(D_\\theta) = \\mathbb{E}_{\\tau \t\t\\sim p}\\left[-\\log\\frac{\\frac{1}{Z}\\text{exp}(-c_\\theta(\\tau))}{\\frac{1}{Z}\\text{exp}(-c_\\theta(\\tau)) + q(\\tau)}\\right] + \\mathbb{E}_{\\tau \\sim q}\\left[-\\log\\frac{q(\\tau)}{\\frac{1}{Z}\\text{exp}(-c_\\theta(\\tau)) + q(\\tau)}\\right]$.\n",
        "The MaxEntIRL log-likelihood objective is <br/> $L_\\text{cost}(D_\\theta) = \\mathbb{E}_{\\tau \t\t\\sim p}\\left[c_\\theta(\\tau)\\right] + \\log\\left( \\mathbb{E}_{\\tau \\sim \\mu}\\left[\\frac{\\text{exp}(-c_\\theta(\\tau)))}{\\frac{1}{2Z}\\text{exp}(-c_\\theta(\\tau)) + \\frac{1}{2}q(\\tau)}\\right]\\right)$, with $\\tilde{\\mu}(\\tau) = \\frac{1}{2Z}\\text{exp}(-c_\\theta(\\tau)) + \\frac{1}{2}q(\\tau)$\n",
        "\n",
        "* ## Equivalence of Z\n",
        "\tExpanding the loss for the discriminator, we get <br/> $L_\\text{discriminator}(D_\\theta) =\\log Z + \\mathbb{E}_{\\tau\\sim p}[c_\\theta(\\tau)] - \\mathbb{E}_{\\tau\\sim q}[\\log q(\\tau)] + 2\\mathbb{E}_{\\tau\\sim\\mu}[\\log \\tilde{\\mu}(\\tau)]$.\n",
        "\tSince the first and last terms are the only components with Z, at the minimizer for Z, $\\partial_Z L_\\text{discriminator}(D_\\theta) = 0$, and $Z=\\mathbb{E}_{\\tau\\sim\\mu}[\\frac{\\text{exp}(-c_\\theta(\\tau))}{\\tilde{\\mu}(\\tau)}]$, which is the second value in the loss for the MaxEntIRL model (the estimate of the importance sampling estimate of Z)\n",
        "\n",
        "* ## Equivalence for $c_\\theta$\n",
        "\tFrom the expanded disciminator loss in the section above, only the second and fourth terms use $\\theta$. Thus,\n",
        "\t$\\partial_\\theta L_\\text{discriminator}(D_\\theta) = \\mathbb{E}_{\\tau\\sim p}[\\partial_\\theta c_\\theta(\\tau)] - \\mathbb{E}_{\\tau\\sim\\mu}\\left[\\frac{\\frac{1}{Z}\\text{exp}(-c_\\theta(\\tau))\\partial_\\theta c_\\theta(\\tau)}{\\tilde{\\mu}(\\tau)}\\right]$.\n",
        "\tDifferentiating the MaxEntIRL objective, we get\n",
        "\t$\\partial_\\theta L_\\text{cost}(\\theta) = \\mathbb{E}_{\\tau\\sim p }[\\partial_\\theta c_\\theta(\\tau)] + \\partial_\\theta \\log\\left(\\mathbb{E}_{\\tau\\sim\\mu}\\left[\\frac{\\text{exp}(-c_\\theta(\\tau))}{\\tilde{\\mu}(\\tau)}\\right]\\right)$, which simplifies to $\\partial_\\theta L_\\text{discriminator}(D_\\theta)$.\n",
        "\n",
        "\n",
        "As for the generator, it maximizes the sampler loss from the MaxEntIRL loss (see paper section 3.3)\n",
        "\n",
        "---\n",
        "## Discussion Section Points\n",
        "* Equivalence between generative adversarial modeling and max entropy irl.\n",
        "* Need the special form of GAN with tractable generator density\n"
      ]
    }
  ]
}